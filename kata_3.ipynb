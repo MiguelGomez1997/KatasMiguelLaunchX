{
 "cells": [
  {
   "cell_type": "markdown",
   "metadata": {},
   "source": [
    "# kata 3\n",
    "\n",
    "### Problema 1\n",
    "\n",
    "Miguel Angel Gómez Moreno\n"
   ]
  },
  {
   "cell_type": "code",
   "execution_count": 2,
   "metadata": {},
   "outputs": [
    {
     "name": "stdout",
     "output_type": "stream",
     "text": [
      "ASTEROIDE ACERCANDOSE\n"
     ]
    }
   ],
   "source": [
    "vel_asteroide=int(input(\"¿A que velocidad va el asteroide?\")) # Km/s\n",
    "if vel_asteroide> 25:\n",
    "    print(\"¡ASTEROIDE ACERCANDOSE!\") \n",
    "else:\n",
    "    print(\"Estas a salvo\")\n",
    " "
   ]
  },
  {
   "cell_type": "markdown",
   "metadata": {},
   "source": [
    "### Problema 2"
   ]
  },
  {
   "cell_type": "code",
   "execution_count": 2,
   "metadata": {},
   "outputs": [
    {
     "name": "stdout",
     "output_type": "stream",
     "text": [
      "No se visualiza nada\n",
      "19\n"
     ]
    }
   ],
   "source": [
    "vel_asteroide=int(input(\"¿A que velocidad va el asteroide?\")) # Km/s\n",
    "if vel_asteroide >= 20:\n",
    "    print(\"Mira hacia arriba se ve una luz\") \n",
    "else:\n",
    "    print(\"No se visualiza nada\")\n"
   ]
  },
  {
   "cell_type": "markdown",
   "metadata": {},
   "source": [
    "### Problema 3"
   ]
  },
  {
   "cell_type": "code",
   "execution_count": 3,
   "metadata": {},
   "outputs": [
    {
     "name": "stdout",
     "output_type": "stream",
     "text": [
      "¡Alerta, Un asteroide muy peligroso viene hacia la Tierra!\n"
     ]
    }
   ],
   "source": [
    "velocidad_asteroide = int(input(\"¿A que velocidad va el asteroide?\")) # Km/s\n",
    "tamano_asteroide =int(input(\"¿De que tamaño es el asteroide?\")) # Km/s\n",
    "if velocidad_asteroide >= 25 and tamano_asteroide > 25:\n",
    "    print('¡ASTEROIDE ACERCANDOSE!')\n",
    "elif velocidad_asteroide >= 20:\n",
    "    print('Mira hacia arriba se ve una luz')\n",
    "elif tamano_asteroide < 25:\n",
    "    print('No se visualiza nada')\n",
    "else:\n",
    "    print('No se visualiza nada')"
   ]
  }
 ],
 "metadata": {
  "interpreter": {
   "hash": "95a78dd07ead7c9d4190c7e29f7bc70f20502d7bf0077af0490d5bf4f04483f2"
  },
  "kernelspec": {
   "display_name": "Python 3.7.6 ('base')",
   "language": "python",
   "name": "python3"
  },
  "language_info": {
   "codemirror_mode": {
    "name": "ipython",
    "version": 3
   },
   "file_extension": ".py",
   "mimetype": "text/x-python",
   "name": "python",
   "nbconvert_exporter": "python",
   "pygments_lexer": "ipython3",
   "version": "3.7.6"
  },
  "orig_nbformat": 4
 },
 "nbformat": 4,
 "nbformat_minor": 2
}
