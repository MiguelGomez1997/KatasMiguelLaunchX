{
 "cells": [
  {
   "cell_type": "markdown",
   "metadata": {},
   "source": [
    "# Kata 9\n",
    "### Problema 1\n",
    "\n",
    "Miguel Angel Gómez Moreno"
   ]
  },
  {
   "cell_type": "code",
   "execution_count": 14,
   "metadata": {},
   "outputs": [],
   "source": [
    "def informe(first_tank,second_tank, third_tank):\n",
    "    \n",
    "    average= (first_tank + second_tank + third_tank)/3\n",
    "    return f\"\"\"Fuel Report:\n",
    "    Total Average: {average}%\n",
    "    Main tank: {first_tank}%\n",
    "    External tank: {second_tank}%\n",
    "    Hydrogen tank: {third_tank}% \n",
    "    \"\"\"\n"
   ]
  },
  {
   "cell_type": "code",
   "execution_count": 16,
   "metadata": {},
   "outputs": [
    {
     "name": "stdout",
     "output_type": "stream",
     "text": [
      "Fuel Report:\n",
      "    Total Average: 5.0%\n",
      "    Main tank: 3%\n",
      "    External tank: 5%\n",
      "    Hydrogen tank: 7% \n",
      "    \n"
     ]
    }
   ],
   "source": [
    "print(informe(3,5,7))"
   ]
  },
  {
   "cell_type": "code",
   "execution_count": 27,
   "metadata": {},
   "outputs": [],
   "source": [
    "# Función promedio\n",
    "def prom (valores):\n",
    "    return (sum(valores))/len(valores)\n",
    "    "
   ]
  },
  {
   "cell_type": "code",
   "execution_count": 30,
   "metadata": {},
   "outputs": [],
   "source": [
    "#informe actualizado \n",
    "def informe(first_tank,second_tank, third_tank):\n",
    "    return f\"\"\"Fuel Report:\n",
    "    Total Average: {prom([first_tank,second_tank,third_tank])}%\n",
    "    Main tank: {first_tank}%\n",
    "    External tank: {second_tank}%\n",
    "    Hydrogen tank: {third_tank}% \n",
    "    \"\"\""
   ]
  },
  {
   "cell_type": "code",
   "execution_count": 31,
   "metadata": {},
   "outputs": [
    {
     "name": "stdout",
     "output_type": "stream",
     "text": [
      "Fuel Report:\n",
      "    Total Average: 5.0%\n",
      "    Main tank: 3%\n",
      "    External tank: 5%\n",
      "    Hydrogen tank: 7% \n",
      "    \n"
     ]
    }
   ],
   "source": [
    "print(informe(3,5,7))"
   ]
  },
  {
   "cell_type": "markdown",
   "metadata": {},
   "source": [
    "### Problema 2"
   ]
  },
  {
   "cell_type": "code",
   "execution_count": 36,
   "metadata": {},
   "outputs": [
    {
     "name": "stdout",
     "output_type": "stream",
     "text": [
      "\n",
      "    Misión con destino a Luna\n",
      "    tiempo de viaje: 65 minutos\n",
      "    Combustible total restante: 500000 galones\n",
      "    \n"
     ]
    }
   ],
   "source": [
    "def Report_mission(pre_launch_time, flight_time, destination, external_tank, main_tank):\n",
    "    return f\"\"\"\n",
    "    Misión con destino a {destination}\n",
    "    tiempo de viaje: {pre_launch_time + flight_time} minutos\n",
    "    Combustible total restante: {external_tank + main_tank} galones\n",
    "    \"\"\"\n",
    "print(Report_mission(14, 51, \"Luna\", 200000, 300000))"
   ]
  },
  {
   "cell_type": "code",
   "execution_count": 37,
   "metadata": {},
   "outputs": [
    {
     "name": "stdout",
     "output_type": "stream",
     "text": [
      "\n",
      "    Misión con destino a Luna\n",
      "    tiempo de viaje: 76 minutos\n",
      "    Combustible total restante: 320000\n",
      "    \n"
     ]
    }
   ],
   "source": [
    "\n",
    "def mission_report(destination, *minutes, **fuel_reservoirs):\n",
    "    return f\"\"\"\n",
    "    Misión con destino a {destination}\n",
    "    tiempo de viaje: {sum(minutes)} minutos\n",
    "    Combustible total restante: {sum(fuel_reservoirs.values())}\n",
    "    \"\"\"\n",
    "\n",
    "print(mission_report(\"Luna\", 10, 15, 51, main=300000, external=20000))"
   ]
  },
  {
   "cell_type": "code",
   "execution_count": 38,
   "metadata": {},
   "outputs": [
    {
     "name": "stdout",
     "output_type": "stream",
     "text": [
      "\n",
      "    Misión con destino a Luna\n",
      "    tiempo de viaje: 74 minutos\n",
      "     Combustible total restante:500000\n",
      "    main tanque --> 300000 galones restantes\n",
      "external tanque --> 200000 galones restantes\n",
      "\n"
     ]
    }
   ],
   "source": [
    "def mission_report(destination, *minutes, **fuel_reservoirs):\n",
    "    main_report = f\"\"\"\n",
    "    Misión con destino a {destination}\n",
    "    tiempo de viaje: {sum(minutes)} minutos\n",
    "     Combustible total restante:{sum(fuel_reservoirs.values())}\n",
    "    \"\"\"\n",
    "    for tank_name, gallons in fuel_reservoirs.items():\n",
    "        main_report += f\"{tank_name} tanque --> {gallons} galones restantes\\n\"\n",
    "    return main_report\n",
    "\n",
    "print(mission_report(\"Luna\", 8, 11, 55, main=300000, external=200000))"
   ]
  }
 ],
 "metadata": {
  "interpreter": {
   "hash": "8f540509a4e83ce88c0d0f3e9297b732ed13c87e164162256132bad1e9b6268e"
  },
  "kernelspec": {
   "display_name": "Python 3.10.2 64-bit",
   "language": "python",
   "name": "python3"
  },
  "language_info": {
   "codemirror_mode": {
    "name": "ipython",
    "version": 3
   },
   "file_extension": ".py",
   "mimetype": "text/x-python",
   "name": "python",
   "nbconvert_exporter": "python",
   "pygments_lexer": "ipython3",
   "version": "3.10.2"
  },
  "orig_nbformat": 4
 },
 "nbformat": 4,
 "nbformat_minor": 2
}
