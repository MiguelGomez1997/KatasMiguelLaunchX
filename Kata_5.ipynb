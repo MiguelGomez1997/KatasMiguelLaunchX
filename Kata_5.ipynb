{
 "cells": [
  {
   "cell_type": "markdown",
   "metadata": {},
   "source": [
    "# Kata 5\n",
    "### Problema 1,2\n",
    "\n",
    "Miguel Angel Gómez Moreno"
   ]
  },
  {
   "cell_type": "code",
   "execution_count": 13,
   "metadata": {},
   "outputs": [],
   "source": [
    "#Se creo un progrma que es capas de abarcar los dos problemas \n",
    "primer_planeta= int(input(\"Ingresar la distancia al sol del primer planeta en Km\"))\n",
    "segundo_planeta= int(input(\"Ingresar la distancia al sol del segundo planeta Km\"))\n",
    "Dist_km=abs(segundo_planeta-primer_planeta)\n",
    "Dist_m=Dist_km*0.621"
   ]
  },
  {
   "cell_type": "code",
   "execution_count": 14,
   "metadata": {},
   "outputs": [
    {
     "name": "stdout",
     "output_type": "stream",
     "text": [
      "La distancia que hay entre los planetas elegidos es 516700 Km\n",
      "La distancia que hay entre los planetas elegidos es 320870.7 millas\n"
     ]
    }
   ],
   "source": [
    "print(\"La distancia que hay entre los planetas elegidos es {} Km\".format(Dist_km))\n",
    "print(\"La distancia que hay entre los planetas elegidos es {} millas\".format(Dist_m))"
   ]
  },
  {
   "cell_type": "code",
   "execution_count": null,
   "metadata": {},
   "outputs": [],
   "source": []
  },
  {
   "cell_type": "markdown",
   "metadata": {},
   "source": []
  }
 ],
 "metadata": {
  "interpreter": {
   "hash": "95a78dd07ead7c9d4190c7e29f7bc70f20502d7bf0077af0490d5bf4f04483f2"
  },
  "kernelspec": {
   "display_name": "Python 3.7.6 ('base')",
   "language": "python",
   "name": "python3"
  },
  "language_info": {
   "codemirror_mode": {
    "name": "ipython",
    "version": 3
   },
   "file_extension": ".py",
   "mimetype": "text/x-python",
   "name": "python",
   "nbconvert_exporter": "python",
   "pygments_lexer": "ipython3",
   "version": "3.7.6"
  },
  "orig_nbformat": 4
 },
 "nbformat": 4,
 "nbformat_minor": 2
}
