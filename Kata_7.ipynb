{
 "cells": [
  {
   "cell_type": "markdown",
   "metadata": {},
   "source": [
    "# Kata 7\n",
    "### Prblema 1\n",
    "\n",
    "Miguel Angel Gómez Moreno"
   ]
  },
  {
   "cell_type": "code",
   "execution_count": 6,
   "metadata": {},
   "outputs": [],
   "source": [
    "new_planet = ''\n",
    "planets = []"
   ]
  },
  {
   "cell_type": "code",
   "execution_count": 7,
   "metadata": {},
   "outputs": [],
   "source": [
    "while new_planet.lower() != \"done\":\n",
    "    planets.append(new_planet)\n",
    "    new_planet = input('Ingresa otro planeta ')\n",
    "    \n"
   ]
  },
  {
   "cell_type": "markdown",
   "metadata": {},
   "source": [
    "### Problema 2"
   ]
  },
  {
   "cell_type": "code",
   "execution_count": 10,
   "metadata": {},
   "outputs": [
    {
     "name": "stdout",
     "output_type": "stream",
     "text": [
      "La lista contine los siguientes planetas ingresados por el usuario\n",
      "\n",
      "Jupiter\n",
      "Saturno\n",
      "marte\n",
      "tierra\n",
      "neptuno\n"
     ]
    }
   ],
   "source": [
    "print(\"La lista contine los siguientes planetas ingresados por el usuario\")\n",
    "for planet in planets:\n",
    "    print(planet)"
   ]
  },
  {
   "cell_type": "code",
   "execution_count": null,
   "metadata": {},
   "outputs": [],
   "source": []
  }
 ],
 "metadata": {
  "interpreter": {
   "hash": "8f540509a4e83ce88c0d0f3e9297b732ed13c87e164162256132bad1e9b6268e"
  },
  "kernelspec": {
   "display_name": "Python 3.10.2 64-bit",
   "language": "python",
   "name": "python3"
  },
  "language_info": {
   "codemirror_mode": {
    "name": "ipython",
    "version": 3
   },
   "file_extension": ".py",
   "mimetype": "text/x-python",
   "name": "python",
   "nbconvert_exporter": "python",
   "pygments_lexer": "ipython3",
   "version": "3.10.2"
  },
  "orig_nbformat": 4
 },
 "nbformat": 4,
 "nbformat_minor": 2
}
